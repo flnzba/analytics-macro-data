{
 "cells": [
  {
   "cell_type": "code",
   "execution_count": null,
   "id": "0bc293b1-4314-4101-aa11-7af423a4a872",
   "metadata": {},
   "outputs": [],
   "source": [
    "export BLS_API_KEY=Set Key Here!\n",
    "\n",
    "import pandas as pd\n",
    "import matplotlib as plt\n",
    "import numpy as np\n",
    "import bls"
   ]
  }
 ],
 "metadata": {
  "kernelspec": {
   "display_name": "Python 3 (ipykernel)",
   "language": "python",
   "name": "python3"
  },
  "language_info": {
   "codemirror_mode": {
    "name": "ipython",
    "version": 3
   },
   "file_extension": ".py",
   "mimetype": "text/x-python",
   "name": "python",
   "nbconvert_exporter": "python",
   "pygments_lexer": "ipython3",
   "version": "3.10.9"
  }
 },
 "nbformat": 4,
 "nbformat_minor": 5
}
