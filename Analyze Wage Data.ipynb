{
 "cells": [
  {
   "cell_type": "code",
   "execution_count": null,
   "id": "2b3d0b1c",
   "metadata": {},
   "outputs": [],
   "source": [
    "BLS_API_KEY=\"\" # bls key not exported to system command line, trying to do it without it\n",
    "\n",
    "import pandas as pd\n",
    "import matplotlib as plt\n",
    "import numpy as np\n",
    "import bls"
   ]
  },
  {
   "cell_type": "code",
   "execution_count": 2,
   "id": "cfdd099e",
   "metadata": {},
   "outputs": [
    {
     "name": "stderr",
     "output_type": "stream",
     "text": [
      "No Data Available for Series CIU2020000000000A Year: 2023\n"
     ]
    },
    {
     "data": {
      "text/plain": [
       "date\n",
       "2014Q1    1.7\n",
       "2014Q2    1.9\n",
       "2014Q3    2.3\n",
       "2014Q4    2.2\n",
       "2015Q1    2.8\n",
       "2015Q2    2.2\n",
       "2015Q3    2.1\n",
       "2015Q4    2.1\n",
       "2016Q1    2.0\n",
       "2016Q2    2.6\n",
       "2016Q3    2.4\n",
       "2016Q4    2.3\n",
       "2017Q1    2.6\n",
       "2017Q2    2.4\n",
       "2017Q3    2.6\n",
       "2017Q4    2.8\n",
       "2018Q1    2.9\n",
       "2018Q2    2.9\n",
       "2018Q3    3.1\n",
       "2018Q4    3.1\n",
       "2019Q1    3.0\n",
       "2019Q2    3.0\n",
       "2019Q3    3.0\n",
       "2019Q4    3.0\n",
       "2020Q1    3.3\n",
       "2020Q2    2.9\n",
       "2020Q3    2.7\n",
       "2020Q4    2.8\n",
       "2021Q1    3.0\n",
       "2021Q2    3.5\n",
       "2021Q3    4.6\n",
       "2021Q4    5.0\n",
       "2022Q1    5.0\n",
       "2022Q2    5.7\n",
       "2022Q3    5.2\n",
       "2022Q4    5.1\n",
       "Freq: Q-DEC, Name: CIU2020000000000A, dtype: float64"
      ]
     },
     "execution_count": 2,
     "metadata": {},
     "output_type": "execute_result"
    }
   ],
   "source": [
    "wages = bls.get_series('CIU2020000000000A')\n",
    "wages"
   ]
  }
 ],
 "metadata": {
  "kernelspec": {
   "display_name": "tydai30d",
   "language": "python",
   "name": "python3"
  },
  "language_info": {
   "codemirror_mode": {
    "name": "ipython",
    "version": 3
   },
   "file_extension": ".py",
   "mimetype": "text/x-python",
   "name": "python",
   "nbconvert_exporter": "python",
   "pygments_lexer": "ipython3",
   "version": "3.10.9"
  },
  "vscode": {
   "interpreter": {
    "hash": "b14c44d649193c08b30ede81704b1903f89e9bc3bf0cd58afa3f45c0315b204e"
   }
  }
 },
 "nbformat": 4,
 "nbformat_minor": 5
}
